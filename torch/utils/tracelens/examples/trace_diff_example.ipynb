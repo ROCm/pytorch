{
 "cells": [
  {
   "cell_type": "markdown",
   "id": "407d5bd5",
   "metadata": {},
   "source": [
    "## Using Trace Diff to find the differences between two Pytorch Kineto Traces\n",
    "\n",
    "This notebook provides a step-by-step guide for comparing two PyTorch Kineto traces using TraceLens's TraceDiff tool. You will:\n",
    "\n",
    "- Load and parse trace files into event trees\n",
    "- Identify differences and points of difference (PODs) between traces\n",
    "- Merge the event trees and generate detailed and summary reports\n",
    "- Use the UID mapping feature to cross-reference events between traces\n",
    "\n",
    "**Requirements:**\n",
    "- Two Kineto trace files (JSON format)\n",
    "- TraceLens installed and available in your Python environment\n",
    "\n",
    "**Outputs:**\n",
    "- Merged tree visualization\n",
    "- CSV files with kernel and op statistics\n",
    "- UID mapping for cross-referencing events\n",
    "\n",
    "> **Tip:** You can customize output folder paths and use the UID map to link events between traces for deeper analysis.\n"
   ]
  },
  {
   "cell_type": "code",
   "execution_count": null,
   "id": "e6eefdbd",
   "metadata": {},
   "outputs": [],
   "source": [
    "# Load and build tree perf analyzer from two trace files\n",
    "#\n",
    "# This cell loads two PyTorch Kineto trace files and initializes TraceLens's TreePerfAnalyzer for each.\n",
    "# This TreePerfAnalyzer internally builds a calls stack tree using TraceLens's TraceToTree.\n",
    "# After running this cell, you will have two trees ready for comparison and analysis.\n",
    "\n",
    "import json\n",
    "from TraceLens import TraceToTree, TreePerfAnalyzer\n",
    "\n",
    "trace_file1 = \"/path/to/trace1.json\"\n",
    "trace_file2 = \"/path/to/trace2.json\"\n",
    "\n",
    "perf_analyzer1 = TreePerfAnalyzer.from_file(trace_file1)\n",
    "perf_analyzer2 = TreePerfAnalyzer.from_file(trace_file2)\n",
    "tree1 = perf_analyzer1.tree\n",
    "tree2 = perf_analyzer2.tree"
   ]
  },
  {
   "cell_type": "code",
   "execution_count": null,
   "id": "b074a0aa",
   "metadata": {},
   "outputs": [],
   "source": [
    "from TraceLens import TraceDiff\n",
    "\n",
    "# --- Step 2: Merge and analyze the trace trees ---\n",
    "\n",
    "# This step merges the two event trees and generates data structures that store the important diff information.\n",
    "# These data structures are then used to generate diff metrics and reports.\n",
    "#\n",
    "# After running this cell, you can:\n",
    "#   - Use the TraceDiff object to access the DataFrames directly for further analysis (see next cells).\n",
    "#   - Write the reports to files using td.print_tracediff_report_files(output_folder) (see later cell).\n",
    "\n",
    "# Merge and generate DataFrames (does NOT write files)\n",
    "td = TraceDiff(tree1, tree2)\n",
    "td.generate_tracediff_report()\n",
    "\n"
   ]
  },
  {
   "cell_type": "code",
   "execution_count": null,
   "id": "990cbc2f",
   "metadata": {},
   "outputs": [],
   "source": [
    "# --- Example: Using the merged_uid_map to cross-reference events between trees ---\n",
    "\n",
    "# This example demonstrates how to use the TraceDiff UID mapping feature to find the corresponding UID in the other tree for a given UID. This is useful for cross-referencing events between two traces.\n",
    "#\n",
    "# Instructions:\n",
    "# 1. When you create a TraceDiff object, the trees are automatically merged and the UID map is initialized. You do NOT need to call merge_trees manually.\n",
    "# 2. Pick a UID from tree1 (or tree2). Here, we use the first root UID from tree1 as an example.\n",
    "# 3. Call td.get_corresponding_uid(tree_num, uid):\n",
    "#    - tree_num = 1 for tree1, 2 for tree2\n",
    "#    - uid = the UID you want to map\n",
    "# 4. If the UID is part of a combined node, you'll get the corresponding UID from the other tree. If not, you'll get -1.\n",
    "# You can use this to look up the corresponding event in the other tree, or to check if a node is matched. This is useful for analysis, visualization, or linking statistics between traces.\n",
    "\n",
    "#search aten::convolution events\n",
    "sample_evt = next(evt for evt in tree1.events if evt['name'] == 'aten::convolution')\n",
    "sample_uid1 = sample_evt['UID']\n",
    "\n",
    "node1 = td.baseline.get_UID2event(sample_uid1)\n",
    "\n",
    "print(f\"Tree 1 UID: {sample_uid1}\")\n",
    "print(f\"  Name: {node1.get('name', node1.get('Name', 'Unknown'))}\")\n",
    "print(f\"  Category: {node1.get('cat', node1.get('category', 'Unknown'))}\")\n",
    "print(f\"  Timestamp: {node1.get('ts', 'Unknown')}\")\n",
    "corresponding_uid2 = td.get_corresponding_uid(1, sample_uid1)\n",
    "\n",
    "if corresponding_uid2 != -1:\n",
    "    node2 = td.variant.get_UID2event(corresponding_uid2)\n",
    "    print(f\"\\nCorresponding Tree 2 UID: {corresponding_uid2}\")\n",
    "    print(f\"  Name: {node2.get('name', node2.get('Name', 'Unknown'))}\")\n",
    "    print(f\"  Category: {node2.get('cat', node2.get('category', 'Unknown'))}\")\n",
    "    print(f\"  Timestamp: {node2.get('ts', 'Unknown')}\")\n",
    "    print(f\"You can now look up the corresponding event in tree2 using UID {corresponding_uid2}\")\n",
    "    print(\"\\nSubtree for this op in Tree 1:\")\n",
    "    td.baseline.traverse_subtree_and_print(node1)\n",
    "    print(\"\\nSubtree for this op in Tree 2:\")\n",
    "    td.variant.traverse_subtree_and_print(node2)\n",
    "else:\n",
    "    print(\"\\nThis UID does not have a combined match in tree2.\")\n",
    "    print(\"\\nSubtree for this op in Tree 1:\")\n",
    "    td.baseline.traverse_subtree_and_print(node1)\n"
   ]
  },
  {
   "cell_type": "code",
   "execution_count": null,
   "id": "60e96931",
   "metadata": {},
   "outputs": [],
   "source": [
    "# The `diff_stats_df` DataFrame contains a detailed, row-by-row comparison \n",
    "# This is the most granular report, useful for deep dives.\n",
    "df_diff_stats = td.diff_stats_df\n",
    "df_diff_stats"
   ]
  },
  {
   "cell_type": "code",
   "execution_count": null,
   "id": "1b0da64e",
   "metadata": {},
   "outputs": [],
   "source": [
    "# The `diff_stats_unique_args_summary_df` DataFrame summarizes the above 'df_diff_stats' DataFrame, across unique argument combinations.\n",
    "df_unique_args = td.diff_stats_unique_args_summary_df\n",
    "df_unique_args.head(10)"
   ]
  },
  {
   "cell_type": "code",
   "execution_count": null,
   "id": "e778bcfe",
   "metadata": {},
   "outputs": [],
   "source": [
    "# The `diff_stats_names_summary_df` DataFrame provides the highest-level summary,\n",
    "# aggregating by operation name. \n",
    "df_name_summary = td.diff_stats_names_summary_df\n",
    "df_name_summary"
   ]
  },
  {
   "cell_type": "code",
   "execution_count": null,
   "id": "c01b0c09",
   "metadata": {},
   "outputs": [],
   "source": [
    "# Write TraceDiff reports to files ---\n",
    "\n",
    "# You can write all TraceDiff reports (merged tree, detailed stats, summary stats) to files in a folder using:\n",
    "#   td.print_tracediff_report_files(output_folder)\n",
    "\n",
    "# Example: write reports to the default folder 'rprt_diff'\n",
    "td.print_tracediff_report_files(\"rprt_diff\")\n",
    "print(\"TraceDiff reports written to rprt_diff/\")"
   ]
  }
 ],
 "metadata": {
  "kernelspec": {
   "display_name": "Python 3 (ipykernel)",
   "language": "python",
   "name": "python3"
  },
  "language_info": {
   "codemirror_mode": {
    "name": "ipython",
    "version": 3
   },
   "file_extension": ".py",
   "mimetype": "text/x-python",
   "name": "python",
   "nbconvert_exporter": "python",
   "pygments_lexer": "ipython3",
   "version": "3.12.9"
  }
 },
 "nbformat": 4,
 "nbformat_minor": 5
}
