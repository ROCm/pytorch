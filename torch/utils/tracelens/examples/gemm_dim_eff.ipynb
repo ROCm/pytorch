{
 "cells": [
  {
   "cell_type": "code",
   "execution_count": null,
   "id": "84eb5f1b-38e2-4b2d-9fcf-55c6ed7fb1dc",
   "metadata": {},
   "outputs": [],
   "source": [
    "from TraceLens import TreePerfAnalyzer"
   ]
  },
  {
   "cell_type": "code",
   "execution_count": null,
   "id": "caf812d2-5b1d-4285-b9d6-8078173ecb27",
   "metadata": {},
   "outputs": [],
   "source": [
    "# replace by your profile path, it can be a single rank profile from a multi gpu run as well\n",
    "# path = '/path/to/profile.json'\n",
    "arch = {'num_cus': 304}\n",
    "perf_analyzer = TreePerfAnalyzer.from_file(path, arch=arch)"
   ]
  },
  {
   "cell_type": "code",
   "execution_count": null,
   "id": "3a90c4f9-07bf-429f-840a-7e297542b4c3",
   "metadata": {},
   "outputs": [],
   "source": [
    "\n",
    "gemm_events = [event for event in perf_analyzer.tree.events if event['name'] in ['aten::addmm', 'aten::mm', 'aten::_scaled_mm']]\n",
    "# build table for compute perf metrics for all gemm events\n",
    "df_gemm_ops = perf_analyzer.build_df_perf_metrics(gemm_events, include_kernel_names=True, detail_level=1)\n",
    "df_gemm_ops"
   ]
  },
  {
   "cell_type": "code",
   "execution_count": null,
   "id": "05333a71-a510-4341-8d73-713419531537",
   "metadata": {},
   "outputs": [],
   "source": [
    "perf_analyzer.summarize_df_perf_metrics(df_gemm_ops, ['mean'])\n"
   ]
  }
 ],
 "metadata": {
  "kernelspec": {
   "display_name": "Python 3 (ipykernel)",
   "language": "python",
   "name": "python3"
  },
  "language_info": {
   "codemirror_mode": {
    "name": "ipython",
    "version": 3
   },
   "file_extension": ".py",
   "mimetype": "text/x-python",
   "name": "python",
   "nbconvert_exporter": "python",
   "pygments_lexer": "ipython3",
   "version": "3.10.16"
  }
 },
 "nbformat": 4,
 "nbformat_minor": 5
}
