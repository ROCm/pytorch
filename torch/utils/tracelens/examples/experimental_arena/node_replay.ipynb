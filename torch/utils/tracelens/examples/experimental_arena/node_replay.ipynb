{
 "cells": [
  {
   "cell_type": "code",
   "execution_count": null,
   "metadata": {},
   "outputs": [],
   "source": [
    "from pprint import pprint\n",
    "import json\n",
    "import pandas as pd\n",
    "from TraceLens import TreePerfAnalyzer"
   ]
  },
  {
   "cell_type": "code",
   "execution_count": null,
   "metadata": {},
   "outputs": [],
   "source": [
    "# replace by your profile path, it can be a single rank profile from a multi gpu run as well\n",
    "path = '/path/to/profile.json'\n",
    "perf_analyzer = TreePerfAnalyzer.from_file(path)"
   ]
  },
  {
   "cell_type": "code",
   "execution_count": null,
   "metadata": {},
   "outputs": [],
   "source": [
    "aten_mm_events = [event for event in perf_analyzer.tree.events if event['name'] =='aten::mm']\n",
    "aten_mm_event = aten_mm_events[123]\n",
    "pprint(aten_mm_event)"
   ]
  },
  {
   "cell_type": "code",
   "execution_count": null,
   "metadata": {},
   "outputs": [],
   "source": [
    "import torch\n",
    "\n",
    "dict_profile2torchdtype = {\n",
    "    'c10::BFloat16': torch.bfloat16,\n",
    "    'c10::Half': torch.half\n",
    "}\n",
    "\n",
    "def get_tensors_from_args(args, device):\n",
    "    tensors = []\n",
    "    for i in range(len(args['Input Dims'])):\n",
    "        shape = tuple(args['Input Dims'][i])\n",
    "        dtype = dict_profile2torchdtype[args['Input type'][i]]\n",
    "        stride = tuple(args['Input Strides'][i])\n",
    "        tensor = torch.randn(shape, device=device, dtype=dtype)\n",
    "        tensor = tensor.as_strided(size=shape, stride=stride)\n",
    "        tensors.append(tensor)\n",
    "    return tensors\n",
    "\n",
    "def replay_aten_mm(event, device):\n",
    "    tensors = get_tensors_from_args(event['args'], device)\n",
    "    result = torch.ops.aten.mm(tensors[0], tensors[1])"
   ]
  },
  {
   "cell_type": "code",
   "execution_count": null,
   "metadata": {},
   "outputs": [],
   "source": [
    "# replay the aten::mm event\n",
    "device = 'cuda:0'\n",
    "replay_aten_mm(aten_mm_event, device)\n"
   ]
  }
 ],
 "metadata": {
  "kernelspec": {
   "display_name": "Python 3 (ipykernel)",
   "language": "python",
   "name": "python3"
  },
  "language_info": {
   "codemirror_mode": {
    "name": "ipython",
    "version": 3
   },
   "file_extension": ".py",
   "mimetype": "text/x-python",
   "name": "python",
   "nbconvert_exporter": "python",
   "pygments_lexer": "ipython3",
   "version": "3.10.16"
  }
 },
 "nbformat": 4,
 "nbformat_minor": 4
}
