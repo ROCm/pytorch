{
 "cells": [
  {
   "cell_type": "code",
   "execution_count": null,
   "id": "687d2631-5cb7-48f1-9853-098827f24c38",
   "metadata": {},
   "outputs": [],
   "source": [
    "from pprint import pprint\n",
    "import json\n",
    "import pandas as pd\n",
    "from TraceLens import TreePerfAnalyzer"
   ]
  },
  {
   "cell_type": "code",
   "execution_count": null,
   "id": "1dbf8b45-81fb-44b7-af6f-f1e10e13a7b4",
   "metadata": {},
   "outputs": [],
   "source": [
    "path = '/path/to/profile.json'\n",
    "perf_analyzer = TreePerfAnalyzer.from_file(path, add_python_func=True)"
   ]
  },
  {
   "cell_type": "code",
   "execution_count": null,
   "id": "2b995139",
   "metadata": {},
   "outputs": [],
   "source": [
    "def get_next_host_op(perf_analyzer, host_op):\n",
    "    \"\"\"\n",
    "    Given a host op we get host op of the gpu event (executed in the same stream)\n",
    "    after all the gpu events launched by this host op\n",
    "    \"\"\"\n",
    "    gpu_event_uids = host_op.get('gpu_events')\n",
    "    if gpu_event_uids is None:\n",
    "        raise ValueError(\"Host op does not have gpu events\")\n",
    "    gpu_events = [perf_analyzer.tree.get_UID2event(uid) for uid in gpu_event_uids]\n",
    "    gpu_streams = [e['args']['stream'] for e in gpu_events]\n",
    "    # as a simplifying assumption we assume all gpu events are in the same stream\n",
    "    assert len(set(gpu_streams)) == 1, \"Not all GPU events are in the same stream\"\n",
    "    gpu_stream = gpu_streams[0]\n",
    "    sorted_gpu_events = sorted(gpu_events, key=lambda x: x['ts'])\n",
    "    last_event = sorted_gpu_events[-1]\n",
    "    stream_index = last_event['args']['stream_index']\n",
    "    next_index = stream_index + 1\n",
    "    next_gpu_event = perf_analyzer.tree.dict_stream_index2event.get((gpu_stream, next_index), None)\n",
    "    assert next_gpu_event is not None, \"No next gpu event found in the stream\"\n",
    "    # lets get the parent host op of this next gpu event\n",
    "    # tree is like host op -> runtime op (cuda/ hip launch) -> gpu op\n",
    "    next_gpu_event_launcher = perf_analyzer.tree.get_parent_event(next_gpu_event)\n",
    "    assert next_gpu_event_launcher is not None, \"No launcher event found for the next gpu event\"\n",
    "    next_gpu_event_host_op = perf_analyzer.tree.get_parent_event(next_gpu_event_launcher)\n",
    "    assert next_gpu_event_host_op is not None, \"No host op found for the next gpu event\"\n",
    "    return next_gpu_event_host_op\n"
   ]
  },
  {
   "cell_type": "code",
   "execution_count": null,
   "id": "2eb2e41c",
   "metadata": {},
   "outputs": [],
   "source": [
    "def summarize_gpu_events_for_host_op(perf_analyzer, host_op):\n",
    "    \"\"\"\n",
    "    Given a host op we get the gpu events launched by this host op\n",
    "    and summarize them\n",
    "    \"\"\"\n",
    "    gpu_event_uids = host_op.get('gpu_events')\n",
    "    if gpu_event_uids is None:\n",
    "        raise ValueError(\"Host op does not have gpu events\")\n",
    "    gpu_events = [perf_analyzer.tree.get_UID2event(uid) for uid in gpu_event_uids]\n",
    "    print(\"GPU Events for host op: \", host_op['name'])\n",
    "    for e in gpu_events:\n",
    "        print(f\"UID: {e['UID']}, Stream: {e['args']['stream']}, Stream Index: {e['args']['stream_index']}, Duration: {e['dur']}, Name: {e['name'][:64]}\")"
   ]
  },
  {
   "cell_type": "code",
   "execution_count": null,
   "id": "7b467f67",
   "metadata": {},
   "outputs": [],
   "source": [
    "\n",
    "miopen_events = [e for e in perf_analyzer.tree.events if e['name'] in ['aten::miopen_convolution', 'aten::miopen_batch_norm']]\n",
    "for evt in miopen_events:\n",
    "    print('miopen fwd event:')\n",
    "    print('UID:', evt['UID'], 'Name:', evt['name'])\n",
    "    summarize_gpu_events_for_host_op(perf_analyzer, evt)\n",
    "    print('')\n",
    "    print(\"Next host op:\")\n",
    "    next_evt = get_next_host_op(perf_analyzer, evt)\n",
    "    print(next_evt['name'])\n",
    "    summarize_gpu_events_for_host_op(perf_analyzer, next_evt)\n",
    "    gpu_events = [perf_analyzer.tree.get_UID2event(uid) for uid in next_evt.get('gpu_events')]\n",
    "    if 'elementwise' in gpu_events[0]['name']:\n",
    "        print('Elementwise kernel found after miopen kernel -> Fusion opportunity!')\n",
    "    print(\"===\"*20)\n",
    "    break\n",
    "    \n",
    "\n"
   ]
  },
  {
   "cell_type": "code",
   "execution_count": null,
   "id": "de775321",
   "metadata": {},
   "outputs": [],
   "source": [
    "# we can use UID for debug analysis\n",
    "# example \n",
    "uid = 233728\n",
    "event = perf_analyzer.tree.get_UID2event(uid)\n",
    "\n",
    "# lets traverse the parents\n",
    "perf_analyzer.tree.traverse_parents_and_print(event)"
   ]
  },
  {
   "cell_type": "code",
   "execution_count": null,
   "id": "7b741505",
   "metadata": {},
   "outputs": [],
   "source": [
    "# traverse the children\n",
    "uid = 60134\n",
    "event = perf_analyzer.tree.get_UID2event(uid)\n",
    "perf_analyzer.tree.traverse_subtree_and_print(event)"
   ]
  }
 ],
 "metadata": {
  "kernelspec": {
   "display_name": "Python 3 (ipykernel)",
   "language": "python",
   "name": "python3"
  },
  "language_info": {
   "codemirror_mode": {
    "name": "ipython",
    "version": 3
   },
   "file_extension": ".py",
   "mimetype": "text/x-python",
   "name": "python",
   "nbconvert_exporter": "python",
   "pygments_lexer": "ipython3",
   "version": "3.10.16"
  }
 },
 "nbformat": 4,
 "nbformat_minor": 5
}
