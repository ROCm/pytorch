{
  "cells": [
    {
      "cell_type": "code",
      "execution_count": null,
      "id": "34a5e22c-4bd6-4ae0-8ded-4edecba17db6",
      "metadata": {},
      "outputs": [],
      "source": [
        "from TraceLens import NcclAnalyser"
      ]
    },
    {
      "cell_type": "code",
      "execution_count": null,
      "id": "485ed37e-1101-4bc9-bd6e-61d9eb117ccd",
      "metadata": {},
      "outputs": [],
      "source": [
        "root_dir = '/path/to/your/trace/files/directory'\n",
        "world_size = 8\n",
        "list_profile_filepaths = [os.path.join(root_dir, f'rank{i}_trace.json') for i in range(world_size)]\n"
      ]
    },
    {
      "cell_type": "code",
      "execution_count": null,
      "id": "0c965040-4314-4810-8d73-e87bfa99146f",
      "metadata": {},
      "outputs": [],
      "source": [
        "my_nccl_analyser = NcclAnalyser(list_profile_filepaths, world_size)"
      ]
    },
    {
      "cell_type": "code",
      "execution_count": null,
      "id": "866f1115-5e09-4a60-8e0a-9c381e943669",
      "metadata": {},
      "outputs": [],
      "source": [
        "# Quick Start\n",
        "# we look at the summary for implicit sync category\n",
        "# this covers the important and common collective operations\n",
        "# allreduce, reducescatter, allgather and alltoall (not alltoallv)\n",
        "df_summary = my_nccl_analyser.build_df_summary_nccl_implicit_sync_cat(agg_metrics=['mean'])\n",
        "df_summary"
      ]
    },
    {
      "cell_type": "code",
      "execution_count": null,
      "id": "820bd043-8e76-475a-8af6-61e2cba3bc16",
      "metadata": {},
      "outputs": [],
      "source": [
        "# For power users, we can look at many more dfs\n",
        "\n",
        "# first we look at the per rank collective df aka \"df long\"\n",
        "# here each row is a collective kernel on a rank\n",
        "df_long = my_nccl_analyser.build_df_long()"
      ]
    },
    {
      "cell_type": "code",
      "execution_count": null,
      "id": "c46fdf2c",
      "metadata": {},
      "outputs": [],
      "source": [
        "# Note that we also construct a collective id column to uniquely identify each collective across ranks\n",
        "# this is constructed as \"Process Group Name\" + \"_\" + \"index_in_group\"\n",
        "# the index_in_group is the order in which the collective appears in the trace\n",
        "# the earliest collective has index 0, the next one has index 1 and so on\n",
        "df_long.head()"
      ]
    },
    {
      "cell_type": "code",
      "execution_count": null,
      "id": "1aac2611",
      "metadata": {},
      "outputs": [],
      "source": [
        "# next we look at the implicit sync category in more detail\n",
        "# here we have one row per collective operation\n",
        "\n",
        "# we calculate the communication latency as the minimum duration across ranks\n",
        "# we compute algo bw as in msg size / comm latency\n",
        "# we compute bus bw as algo bw * scaling factor\n",
        "df_implicit_sync_cat = my_nccl_analyser.build_df_nccl_implicit_sync_cat()\n",
        "df_implicit_sync_cat.head()"
      ]
    },
    {
      "cell_type": "code",
      "execution_count": null,
      "id": "a96c5f35",
      "metadata": {},
      "outputs": [],
      "source": [
        "# we can also look at the detailed version of the implicit sync category\n",
        "# this includes per rank timestamps and durations \n",
        "df_implicit_sync_cat_detailed = my_nccl_analyser.build_df_nccl_implicit_sync_cat(detailed=True)\n",
        "df_implicit_sync_cat_detailed.head()"
      ]
    },
    {
      "cell_type": "code",
      "execution_count": null,
      "id": "c09a0e2a",
      "metadata": {},
      "outputs": [],
      "source": [
        "# We look at alltoallv separately\n",
        "# This is because the data sent and received by each rank can be different\n",
        "# This does not respect the implicit sync property\n",
        "# We expose raw data and leave the calculations to the user\n",
        "# We will add more metrics based on user feedback\n",
        "\n",
        "df_all2allv = my_nccl_analyser.build_df_nccl_all2allv()\n",
        "df_all2allv.head()"
      ]
    }
  ],
  "metadata": {
    "kernelspec": {
      "display_name": "Python 3 (ipykernel)",
      "language": "python",
      "name": "python3"
    },
    "language_info": {
      "codemirror_mode": {
        "name": "ipython",
        "version": 3
      },
      "file_extension": ".py",
      "mimetype": "text/x-python",
      "name": "python",
      "nbconvert_exporter": "python",
      "pygments_lexer": "ipython3",
      "version": "3.10.15"
    }
  },
  "nbformat": 4,
  "nbformat_minor": 5
}