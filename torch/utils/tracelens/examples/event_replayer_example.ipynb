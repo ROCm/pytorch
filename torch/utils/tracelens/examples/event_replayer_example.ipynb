{
 "cells": [
  {
   "cell_type": "code",
   "execution_count": null,
   "id": "0e50e0b0-737a-44cc-90d2-2397947682a8",
   "metadata": {},
   "outputs": [],
   "source": [
    "import time\n",
    "import torch # needed for replay feature\n",
    "from TraceLens import TreePerfAnalyzer, EventReplayer"
   ]
  },
  {
   "cell_type": "code",
   "execution_count": null,
   "id": "c91964c2-2e9c-48a2-80be-5adf769c46aa",
   "metadata": {},
   "outputs": [],
   "source": [
    "# replace by your profile path, it can be a single rank profile from a multi gpu run as well\n",
    "path =\"/home/buffer/resnet_trace.json\"\n",
    "perf_analyzer = TreePerfAnalyzer.from_file(path)"
   ]
  },
  {
   "cell_type": "code",
   "execution_count": null,
   "id": "2af214e4-31fa-4934-8b6c-5487eae030ad",
   "metadata": {},
   "outputs": [],
   "source": [
    "# Replay works for any op, taking gemm as example \n",
    "# gemm_events = [event for event in perf_analyzer.tree.events if event['name'] in ['aten::addmm', 'aten::mm', 'aten::_scaled_mm']]\n",
    "gemm_events = [event for event in perf_analyzer.tree.events if event['name'] in ['aten::convolution']]\n",
    "df_gemm_ops = perf_analyzer.build_df_perf_metrics(gemm_events)\n",
    "df_gemm_summary = perf_analyzer.summarize_df_perf_metrics(df_gemm_ops, ['mean'])\n",
    "df_gemm_summary"
   ]
  },
  {
   "cell_type": "code",
   "execution_count": null,
   "id": "6e6dd585-a916-4795-8aee-84dbcc2f78dd",
   "metadata": {},
   "outputs": [],
   "source": [
    "device=\"cuda\"\n",
    "row_idx = 1\n",
    "row = df_gemm_summary.iloc[row_idx]\n",
    "uid = row['UID_first'] # get uid for row of interest\n",
    "evt = perf_analyzer.tree.get_UID2event(uid)\n",
    "my_replayer = EventReplayer(evt, device=device, verbose=False)\n",
    "my_replayer.replay()\n"
   ]
  },
  {
   "cell_type": "code",
   "execution_count": null,
   "id": "5337c7e3-3f7c-4809-b1fc-030bdf80fa1c",
   "metadata": {},
   "outputs": [],
   "source": [
    "my_replayer.get_repro_info()"
   ]
  },
  {
   "cell_type": "code",
   "execution_count": null,
   "id": "c2328dd7-7333-4d85-9304-e5a784c442f0",
   "metadata": {},
   "outputs": [],
   "source": [
    "def benchmark_func(func, device, warmup=50, avg_steps=100):\n",
    "    \"\"\"\n",
    "    Benchmark a function with warmup and average steps.\n",
    "    Disclaimer: This method would be innacurate for very short ops.\n",
    "    Args:\n",
    "        func (callable): The function to benchmark.\n",
    "        warmup (int): Number of warmup iterations.\n",
    "        avg_steps (int): Number of iterations to average over.\n",
    "    Returns:\n",
    "        float: Average time taken per iteration in microseconds.\n",
    "    \"\"\"\n",
    "    # Warmup phase\n",
    "    for _ in range(warmup):\n",
    "        func()\n",
    "\n",
    "    # Benchmarking phase\n",
    "    torch.cuda.synchronize(device)\n",
    "    start_time = time.time()\n",
    "    for _ in range(avg_steps):\n",
    "        func()\n",
    "    torch.cuda.synchronize(device)\n",
    "    end_time = time.time()\n",
    "\n",
    "    elapsed_time = end_time - start_time\n",
    "    avg_time_sec = elapsed_time / avg_steps\n",
    "    avg_time_us = avg_time_sec * 1e6\n",
    "\n",
    "    return avg_time_us"
   ]
  },
  {
   "cell_type": "code",
   "execution_count": null,
   "id": "400d568b-af75-4ea7-ae01-edb675e8da39",
   "metadata": {},
   "outputs": [],
   "source": [
    "# Check fidelity of replay\n",
    "replay_time_mean = benchmark_func(my_replayer.replay, device)\n",
    "profile_time_mean = row['Kernel Time (µs)_mean']\n",
    "percent_diff = (replay_time_mean - profile_time_mean) / profile_time_mean * 100\n",
    "print(f\"Average time per replay: {replay_time_mean:.2f} us\")\n",
    "print(f\"Profile time mean: {profile_time_mean:.2f} us\")\n",
    "print(f\"Percent difference: {percent_diff:.2f}%\")\n",
    "print(f\"Abs difference: {replay_time_mean - profile_time_mean:.2f} us\")\n"
   ]
  },
  {
   "cell_type": "code",
   "execution_count": null,
   "id": "6fda5a18-2783-40ed-a793-4f5192d265d0",
   "metadata": {},
   "outputs": [],
   "source": [
    "# lets get events of interest for batched replay \n",
    "unique_gemm_events = []\n",
    "for index, row in df_gemm_summary.iterrows():\n",
    "    uid = row['UID_first']\n",
    "    event = perf_analyzer.tree.get_UID2event(uid)\n",
    "    unique_gemm_events.append(event)\n",
    "    "
   ]
  },
  {
   "cell_type": "code",
   "execution_count": null,
   "id": "e2d7608f-30d2-4aae-9361-6feb111b878c",
   "metadata": {},
   "outputs": [],
   "source": [
    "# save replay info as json\n",
    "import json\n",
    "repro_data_list = []\n",
    "processed_count = 0\n",
    "\n",
    "for event in unique_gemm_events:\n",
    "    # Initialize EventReplayer (device doesn't matter here, just for schema matching)\n",
    "    # Set lazy=True as we only need the IR, not immediate tensor creation.\n",
    "    # Verbose can be helpful for debugging schema mismatches during extraction.\n",
    "    replayer = EventReplayer(event, lazy=True, verbose=False) # Set verbose=True for debug\n",
    "\n",
    "    # Extract the serializable info\n",
    "    repro_info = replayer.get_repro_info()\n",
    "    repro_data_list.append(repro_info)\n",
    "    processed_count += 1\n",
    "\n",
    "\n",
    "# --- Save the Extracted Data ---\n",
    "OUTPUT_REPRO_FILE = '/home/buffer/event_replay_ir.json'\n",
    "if repro_data_list:\n",
    "    print(f\"\\nSaving {len(repro_data_list)} extracted operator infos to '{OUTPUT_REPRO_FILE}'...\")\n",
    "    with open(OUTPUT_REPRO_FILE, 'w') as f:\n",
    "        json.dump(repro_data_list, f, indent=4)\n",
    "    print(\"Save complete.\")\n"
   ]
  },
  {
   "cell_type": "code",
   "execution_count": null,
   "id": "6f742df8-8c59-40f3-976b-95cbabd2fc96",
   "metadata": {},
   "outputs": [],
   "source": [
    "import subprocess\n",
    "from TraceLens.EventReplay import batched_replay\n",
    "\n",
    "cmd = [\n",
    "    \"python\",          # run as \"python ...\"\n",
    "    batched_replay.__file__, # batched_replay.py\n",
    "    str(OUTPUT_REPRO_FILE),  # argument: path to ir json\n",
    "    \"--verbose\",\n",
    "]\n",
    "\n",
    "print(\"Running subprocess:\\n\", \" \".join(cmd), \"\\n\")\n",
    "result = subprocess.run(cmd, capture_output=True, text=True)\n",
    "\n",
    "print(\"stdout:\\n\", result.stdout)\n",
    "if result.stderr:\n",
    "    print(\"stderr:\\n\", result.stderr)\n"
   ]
  },
  {
   "cell_type": "code",
   "execution_count": null,
   "id": "2eb7faeb-bbc0-4b90-bde2-7f468c4477a0",
   "metadata": {},
   "outputs": [],
   "source": [
    "# STANDALONE ARTIFACTS FOR REPRO -  independent of model code or tracelens code\n",
    "# artifacts include (a)replay_ir.json, (b) utils.py, (c) batched_replay.py\n",
    "import zipfile\n",
    "from TraceLens.EventReplay import utils as tl_utils\n",
    "import os\n",
    "files = [\n",
    "    OUTPUT_REPRO_FILE,\n",
    "    tl_utils.__file__,  # Path to utils.py\n",
    "    batched_replay.__file__,  # Path to batched_replay.py\n",
    "    batched_replay.__file__.replace('batched_replay.py', 'batched_replay_readme.md') # path to the readme\n",
    "]\n",
    "zip_file_path = '/home/buffer/replay_code.zip'\n",
    "with zipfile.ZipFile(zip_file_path, 'w') as zipf:\n",
    "    for file in files:\n",
    "        zipf.write(file, arcname=os.path.basename(file))  # ← use file.name\n",
    "print(f\"Created zip file: {zip_file_path}\")"
   ]
  },
  {
   "cell_type": "code",
   "execution_count": null,
   "id": "144ce15b-5f0a-4f8e-b7a2-f287154a5d18",
   "metadata": {},
   "outputs": [],
   "source": [
    "batched_replay.__file__"
   ]
  }
 ],
 "metadata": {
  "kernelspec": {
   "display_name": "Python 3 (ipykernel)",
   "language": "python",
   "name": "python3"
  },
  "language_info": {
   "codemirror_mode": {
    "name": "ipython",
    "version": 3
   },
   "file_extension": ".py",
   "mimetype": "text/x-python",
   "name": "python",
   "nbconvert_exporter": "python",
   "pygments_lexer": "ipython3",
   "version": "3.10.16"
  }
 },
 "nbformat": 4,
 "nbformat_minor": 5
}
