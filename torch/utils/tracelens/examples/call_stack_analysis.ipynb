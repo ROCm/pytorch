{
 "cells": [
  {
   "cell_type": "code",
   "execution_count": null,
   "id": "84eb5f1b-38e2-4b2d-9fcf-55c6ed7fb1dc",
   "metadata": {},
   "outputs": [],
   "source": [
    "# This notebook demonstrates call stack analysis using TraceLens.\n",
    "# The first part of the notebook is the usual perf breakdown analysis to set up the context.\n",
    "# The second part is the call stack analysis, which is the main focus of this notebook.\n",
    "\n",
    "from pprint import pprint\n",
    "import json\n",
    "import pandas as pd\n",
    "from TraceLens import TreePerfAnalyzer"
   ]
  },
  {
   "cell_type": "code",
   "execution_count": null,
   "id": "caf812d2-5b1d-4285-b9d6-8078173ecb27",
   "metadata": {},
   "outputs": [],
   "source": [
    "# replace by your profile path, it can be a single rank profile from a multi gpu run as well\n",
    "path = '/your/path/to/profile.json'\n",
    "# we need python func to traceback to the python frontend of pytorch and the model code,\n",
    "# we can disable this if we are only interested in the backend\n",
    "perf_analyzer = TreePerfAnalyzer.from_file(path, add_python_func=True)\n",
    "# perf_analyzer = TreePerfAnalyzer.from_file(path, add_python_func=False)"
   ]
  },
  {
   "cell_type": "code",
   "execution_count": null,
   "id": "6f16ae0c-9d06-4215-8282-ba207af928fc",
   "metadata": {},
   "outputs": [],
   "source": [
    "# table of all lowest-level CPU operations (from the call stack perspective)\n",
    "# and the time they \"induce\" on the GPU\n",
    "df_kernel_launchers = perf_analyzer.get_df_kernel_launchers(include_kernel_names=True)\n",
    "df_kernel_launchers.round(2).head()"
   ]
  },
  {
   "cell_type": "code",
   "execution_count": null,
   "id": "71bf24ea-fb43-42cf-b09f-f5f464142d22",
   "metadata": {},
   "outputs": [],
   "source": [
    "# group by op name and summarize\n",
    "# this gives an op wise breakdown of gpu time\n",
    "df_kernel_launchers_summary = perf_analyzer.get_df_kernel_launchers_summary(df_kernel_launchers)\n",
    "df_kernel_launchers_summary.round(2).head()"
   ]
  },
  {
   "cell_type": "code",
   "execution_count": null,
   "id": "117537e4-ccc3-4c59-af9a-6cbe85283c40",
   "metadata": {},
   "outputs": [],
   "source": [
    "# Generate a detailed breakdown of unique argument combinations for all kernel-launching CPU ops.\n",
    "# For each unique (op name + input dims/types/strides/concrete args), this groups and aggregates GPU time,\n",
    "# helping identify which op and its arguments are the most time-consuming.\n",
    "perf_analyzer.get_df_kernel_launchers_unique_args(df_kernel_launchers, include_pct=True)"
   ]
  },
  {
   "cell_type": "code",
   "execution_count": null,
   "id": "03ce0ec9-725e-4982-ae85-99d8d83a6f36",
   "metadata": {},
   "outputs": [],
   "source": [
    "# Same as above, but restricted to a specific op type\n",
    "# Useful for drilling into the breakdown of a single op\n",
    "# We take the 'aten::copy_' op as an example as it is a common op that reduces flops utilization\n",
    "df_op_interest = perf_analyzer.get_df_kernel_launchers_unique_args(df_kernel_launchers, event_name=\"aten::copy_\", include_pct=True)\n",
    "df_op_interest.head()"
   ]
  },
  {
   "cell_type": "code",
   "execution_count": null,
   "id": "bf41ca6d",
   "metadata": {},
   "outputs": [],
   "source": [
    "# for further analysis of where this copy comes from we can look at the call stack\n",
    "sample_row = df_op_interest.sample(1).iloc[0]\n",
    "uid = sample_row['ex_UID']\n",
    "evt = perf_analyzer.tree.get_UID2event(uid)\n",
    "root_node = perf_analyzer.tree.traverse_parents_and_print(evt, cpu_op_fields=('Input Dims', 'Input type', 'Input Strides', 'Concrete Inputs'))"
   ]
  },
  {
   "cell_type": "code",
   "execution_count": null,
   "id": "9e0335a5",
   "metadata": {},
   "outputs": [],
   "source": [
    "# now we can do a subtree print to further contextualize this copy\n",
    "perf_analyzer.tree.traverse_subtree_and_print(root_node)"
   ]
  },
  {
   "cell_type": "code",
   "execution_count": null,
   "id": "287c4b00",
   "metadata": {},
   "outputs": [],
   "source": [
    "# demonstrate manually traversing the tree\n",
    "uid = sample_row['ex_UID']\n",
    "evt = perf_analyzer.tree.get_UID2event(uid)\n",
    "print(f\"Event UID: {evt['UID']}, Name: {evt.get('name', 'Unknown')}\")\n",
    "print(\"Traversing children of the event:\")\n",
    "children_uids = evt['children']\n",
    "for child_uid in children_uids:\n",
    "    child_event = perf_analyzer.tree.get_UID2event(child_uid)\n",
    "    name = child_event.get('name')\n",
    "    print(f\"UID: {child_uid}, Name: {name}\")\n",
    "\n",
    "print(\"Traversing parents of the event:\")\n",
    "parent_uid = evt.get('parent')\n",
    "parent_event = perf_analyzer.tree.get_UID2event(parent_uid)\n",
    "name = parent_event.get('name')\n",
    "print(f\"UID: {parent_uid}, Name: {name}\")\n"
   ]
  }
 ],
 "metadata": {
  "kernelspec": {
   "display_name": "Python 3 (ipykernel)",
   "language": "python",
   "name": "python3"
  },
  "language_info": {
   "codemirror_mode": {
    "name": "ipython",
    "version": 3
   },
   "file_extension": ".py",
   "mimetype": "text/x-python",
   "name": "python",
   "nbconvert_exporter": "python",
   "pygments_lexer": "ipython3",
   "version": "3.12.9"
  }
 },
 "nbformat": 4,
 "nbformat_minor": 5
}
