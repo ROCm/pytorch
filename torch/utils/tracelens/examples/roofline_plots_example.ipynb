{
 "cells": [
  {
   "cell_type": "code",
   "execution_count": null,
   "id": "c741de68-5644-4606-86a7-ce8081495daa",
   "metadata": {},
   "outputs": [],
   "source": [
    "from pprint import pprint\n",
    "import json\n",
    "import pandas as pd\n",
    "import numpy as np\n",
    "import matplotlib.pyplot as plt\n",
    "from TraceLens import TreePerfAnalyzer"
   ]
  },
  {
   "cell_type": "code",
   "execution_count": null,
   "id": "d4f42475-dbd2-4fb5-9d28-85c3f561118b",
   "metadata": {},
   "outputs": [],
   "source": [
    "path = '/path/to/trace.json'\n",
    "\n",
    "perf_analyzer = TreePerfAnalyzer.from_file(path)"
   ]
  },
  {
   "cell_type": "code",
   "execution_count": null,
   "id": "e6a0802c-c37a-41c9-b752-82d3f5e522bc",
   "metadata": {},
   "outputs": [],
   "source": [
    "# replace by any other op filtering logic\n",
    "events = [event for event in perf_analyzer.tree.events if event['name'] == 'aten::copy_']\n",
    "df_ops = perf_analyzer.build_df_perf_metrics(events, bwd=False)"
   ]
  },
  {
   "cell_type": "code",
   "execution_count": null,
   "id": "980e2749",
   "metadata": {},
   "outputs": [],
   "source": [
    "# Constants\n",
    "# replace by cfgs of your HW and\n",
    "\n",
    "peak_bw = 5.3  # in TB/s\n",
    "bw_eff = 0.95\n",
    "mabw = bw_eff * peak_bw \n",
    "\n",
    "peak_tflops = 1307.4  \n",
    "flops_eff = 0.7\n",
    "maf = flops_eff * peak_tflops  \n",
    "\n",
    "memory_bandwidth_bytes = mabw * 1e12 "
   ]
  },
  {
   "cell_type": "code",
   "execution_count": null,
   "id": "e8880a5a-71d9-4f4b-9dfb-872c874afc44",
   "metadata": {},
   "outputs": [],
   "source": [
    "# Compute intensity and bounds\n",
    "log_max_ci = np.log10(max(df_ops[\"FLOPS/Byte\"]) * 2) # 2 for better visualization\n",
    "log_min_ci = np.log10(min(df_ops[\"FLOPS/Byte\"]) / 2) # 2 for better visualization\n",
    "compute_intensity = np.logspace(log_min_ci, log_max_ci, 100)  # FLOPs/Byte\n",
    "memory_bound = compute_intensity * memory_bandwidth_bytes / 1e12  # in TFLOPS/s\n",
    "compute_bound = np.full_like(compute_intensity, maf)\n",
    "\n",
    "\n",
    "df_roofline = pd.DataFrame({\n",
    "    \"Compute Intensity (FLOPs/Byte)\": df_ops[\"FLOPS/Byte\"],\n",
    "    \"Performance (TFLOPS/s)\": df_ops[\"TFLOPS/s\"]\n",
    "})\n",
    "\n",
    "# Plotting\n",
    "plt.figure(figsize=(8, 5))\n",
    "plt.loglog(compute_intensity, memory_bound, color='orange', linestyle='--',\n",
    "           label=f\"Memory Bound ({bw_eff} × {peak_bw} TB/s)\")\n",
    "plt.loglog(compute_intensity, compute_bound, color='red', linestyle='-',\n",
    "           label=f\"Compute Bound ({flops_eff} × {peak_tflops} TFLOPS/s)\")\n",
    "\n",
    "plt.scatter(df_roofline[\"Compute Intensity (FLOPs/Byte)\"],\n",
    "            df_roofline[\"Performance (TFLOPS/s)\"],\n",
    "            color='blue', label=\"Performance data\")\n",
    "\n",
    "plt.xlabel(\"Compute Intensity (FLOPs/Byte)\")\n",
    "plt.ylabel(\"Performance (TFLOPS/s)\")\n",
    "plt.title(\"Roofline Model\")\n",
    "plt.legend()\n",
    "plt.grid(True, which=\"both\", linestyle=\"--\", linewidth=0.5)\n",
    "plt.tight_layout()\n",
    "plt.show()\n"
   ]
  },
  {
   "cell_type": "code",
   "execution_count": null,
   "id": "e75b2aa2-f91d-41f4-9d17-17fc1e2510d5",
   "metadata": {},
   "outputs": [],
   "source": [
    "# Create scatter plot\n",
    "plt.figure(figsize=(8, 6))\n",
    "plt.scatter(df_ops['Data Moved (MB)'], df_ops['TB/s'], alpha=0.7)\n",
    "\n",
    "# Add horizontal line for max bandwidth\n",
    "plt.axhline(y=mabw, color='red', linestyle='--', linewidth=1.2, label=f\"Max Achievable BW: {bw_eff} × {peak_bw} TB/s\")\n",
    "\n",
    "# Set labels and title\n",
    "plt.xlabel(\"Data Moved (MB)\", fontsize=12)\n",
    "plt.ylabel(\"Bandwidth (TB/s)\", fontsize=12)\n",
    "plt.title(\"Bandwidth vs Data Moved\", fontsize=14)\n",
    "\n",
    "# Set log scale for x-axis\n",
    "plt.xscale('log', base=2)\n",
    "\n",
    "# Show grid for better readability\n",
    "plt.grid(True, which=\"both\", linestyle=\"--\", linewidth=0.5)\n",
    "\n",
    "# Add legend\n",
    "plt.legend()\n",
    "\n",
    "# Show the plot\n",
    "plt.show()\n"
   ]
  }
 ],
 "metadata": {
  "kernelspec": {
   "display_name": "Python 3 (ipykernel)",
   "language": "python",
   "name": "python3"
  },
  "language_info": {
   "codemirror_mode": {
    "name": "ipython",
    "version": 3
   },
   "file_extension": ".py",
   "mimetype": "text/x-python",
   "name": "python",
   "nbconvert_exporter": "python",
   "pygments_lexer": "ipython3",
   "version": "3.10.15"
  }
 },
 "nbformat": 4,
 "nbformat_minor": 5
}
