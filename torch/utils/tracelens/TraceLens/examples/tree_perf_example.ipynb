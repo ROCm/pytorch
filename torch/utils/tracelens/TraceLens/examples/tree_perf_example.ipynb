{
 "cells": [
  {
   "cell_type": "code",
   "execution_count": null,
   "id": "84eb5f1b-38e2-4b2d-9fcf-55c6ed7fb1dc",
   "metadata": {},
   "outputs": [],
   "source": [
    "from pprint import pprint\n",
    "import json\n",
    "import pandas as pd\n",
    "from TraceLens import TreePerfAnalyzer"
   ]
  },
  {
   "cell_type": "code",
   "execution_count": null,
   "id": "caf812d2-5b1d-4285-b9d6-8078173ecb27",
   "metadata": {},
   "outputs": [],
   "source": [
    "# replace by your profile path, it can be a single rank profile from a multi gpu run as well\n",
    "path = '/path/to/profile.json'\n",
    "\n",
    "perf_analyzer = TreePerfAnalyzer.from_file(path)"
   ]
  },
  {
   "cell_type": "code",
   "execution_count": null,
   "id": "0e7d4ac1-2cbe-49b8-97fa-d58eb0873b04",
   "metadata": {},
   "outputs": [],
   "source": [
    "# get breakdown of gpu timeline - busy time, idle time, communication time, etc\n",
    "perf_analyzer.get_df_gpu_timeline()"
   ]
  },
  {
   "cell_type": "code",
   "execution_count": null,
   "id": "6f16ae0c-9d06-4215-8282-ba207af928fc",
   "metadata": {},
   "outputs": [],
   "source": [
    "# table of all lowest-level CPU operations (from the call stack perspective)\n",
    "# and the time they \"induce\" on the GPU\n",
    "df_kernel_launchers = perf_analyzer.get_df_kernel_launchers()\n",
    "df_kernel_launchers.round(2).head()"
   ]
  },
  {
   "cell_type": "code",
   "execution_count": null,
   "id": "71bf24ea-fb43-42cf-b09f-f5f464142d22",
   "metadata": {},
   "outputs": [],
   "source": [
    "# group by op name and summarize\n",
    "# this gives an op wise breakdown of gpu time\n",
    "df_kernel_launchers_summary = perf_analyzer.get_df_kernel_launchers_summary(df_kernel_launchers)\n",
    "df_kernel_launchers_summary.round(2).head()"
   ]
  },
  {
   "cell_type": "code",
   "execution_count": null,
   "id": "4aacc000-9977-448f-89ad-67ef9427cc68",
   "metadata": {},
   "outputs": [],
   "source": [
    "# We can further get breakdown by shapes for a particular op\n",
    "# We do this by filtering the name and then grouping by the input dims\n",
    "df_kernel_launchers_summary_name_shapes = perf_analyzer.get_df_kernel_launchers_summary_by_shape(df_kernel_launchers, \"aten::mm\")\n",
    "df_kernel_launchers_summary_name_shapes.round(2)"
   ]
  },
  {
   "cell_type": "code",
   "execution_count": null,
   "id": "3a90c4f9-07bf-429f-840a-7e297542b4c3",
   "metadata": {},
   "outputs": [],
   "source": [
    "# Roofline for ops\n",
    "# currently we have GEMM, CONV fwd+bwd, FA\n",
    "# many more coming soon\n",
    "\n",
    "# Example 1 GEMM\n",
    "gemm_events = [event for event in perf_analyzer.tree.events if event['name'] in ['aten::addmm', 'aten::mm', 'aten::_scaled_mm']]\n",
    "print(f\"Found {len(gemm_events)} gemm events\")\n",
    "\n",
    "# take an example event and compute perf metrics\n",
    "gemm_event = gemm_events[0]\n",
    "print(\"Event dict:\")\n",
    "pprint(gemm_event)\n",
    "print(\"Perf metrics dict:\")\n",
    "pprint(perf_analyzer.compute_perf_metrics(gemm_event))\n"
   ]
  },
  {
   "cell_type": "code",
   "execution_count": null,
   "id": "f7a69bed-50fa-4475-bb41-34b2e1f8ee01",
   "metadata": {},
   "outputs": [],
   "source": [
    "# build table for compute perf metrics for all gemm events\n",
    "df_gemm_ops = perf_analyzer.build_df_perf_metrics(gemm_events, bwd=False, non_data_mov=True, include_kernel_names=True)\n",
    "df_gemm_ops.head()"
   ]
  },
  {
   "cell_type": "code",
   "execution_count": null,
   "id": "1bf969c8-2313-40f7-aa83-20568b7ac846",
   "metadata": {},
   "outputs": [],
   "source": [
    "# summarize by grouping across params M K N and bias and computing aggregate metrics\n",
    "perf_analyzer.summarize_df_perf_metrics(df_gemm_ops, ['mean'])"
   ]
  },
  {
   "cell_type": "code",
   "execution_count": null,
   "id": "c29741fc-4f49-441d-99d5-062396873b8a",
   "metadata": {},
   "outputs": [],
   "source": [
    "# Example 2a FA fwd\n",
    "fa_events = [event for event in perf_analyzer.tree.events if event['name'] == 'FlashAttnFunc']\n",
    "df_fa_fwd_ops = perf_analyzer.build_df_perf_metrics(fa_events, bwd=False, non_data_mov=True)\n",
    "perf_analyzer.summarize_df_perf_metrics(df_fa_fwd_ops, ['mean'])"
   ]
  },
  {
   "cell_type": "code",
   "execution_count": null,
   "id": "4dc2bba8-83c5-4e35-8571-be7ee1b6b1b0",
   "metadata": {},
   "outputs": [],
   "source": [
    "# Example 2b FA bwd\n",
    "# Note: bwd events for a fwd pass event are found \n",
    "# by traversing the autograd links\n",
    "df_fa_bwd_ops = perf_analyzer.build_df_perf_metrics(fa_events, bwd=True, non_data_mov=True)\n",
    "perf_analyzer.summarize_df_perf_metrics(df_fa_bwd_ops, ['mean'])"
   ]
  },
  {
   "cell_type": "code",
   "execution_count": null,
   "id": "0b606843-ea29-4286-b9ba-a180ea1b5534",
   "metadata": {},
   "outputs": [],
   "source": [
    "# Example 3a conv fwd\n",
    "conv_events = [event for event in perf_analyzer.tree.events if event['name'] == 'aten::convolution']\n",
    "df_conv_fwd_ops = perf_analyzer.build_df_perf_metrics(conv_events, bwd=False, non_data_mov=True)\n",
    "perf_analyzer.summarize_df_perf_metrics(df_conv_fwd_ops, ['mean'])"
   ]
  },
  {
   "cell_type": "code",
   "execution_count": null,
   "id": "e1d702d8-fbf4-45bb-82d1-ac3b5961ccd7",
   "metadata": {},
   "outputs": [],
   "source": [
    "# Example 3b conv bwd\n",
    "df_conv_bwd_ops = perf_analyzer.build_df_perf_metrics(conv_events, bwd=True, non_data_mov=True)\n",
    "perf_analyzer.summarize_df_perf_metrics(df_conv_bwd_ops, ['mean'])"
   ]
  },
  {
   "cell_type": "code",
   "execution_count": null,
   "id": "ec56cc71-580c-4afe-b83e-da27148967b6",
   "metadata": {},
   "outputs": [],
   "source": [
    "# Example 4 unary elementwise \n",
    "unary_elemwise_op_names = [\n",
    "    'aten::copy', 'aten::copy_',\n",
    "    'atem::clamp_min', 'aten::clamp_min_', \n",
    "    'aten::sigmoid',\n",
    "]\n",
    "\n",
    "unary_elementwise_events = [event for event in perf_analyzer.tree.events if event['name'] in unary_elemwise_op_names]\n",
    "df_unary_elementwise_ops = perf_analyzer.build_df_perf_metrics(unary_elementwise_events, bwd=False, non_data_mov=True, include_kernel_names=True)\n",
    "perf_analyzer.summarize_df_perf_metrics(df_unary_elementwise_ops, ['mean'])"
   ]
  },
  {
   "cell_type": "code",
   "execution_count": null,
   "id": "c521592f-9ded-487a-9694-d8307c438772",
   "metadata": {},
   "outputs": [],
   "source": [
    "# Example 5 binary elementwise \n",
    "binary_elemwise_op_names = [\n",
    "    'aten::div', 'aten::div_',\n",
    "    'aten::mul', 'aten::mul_',\n",
    "    'aten::add', 'aten::add_',\n",
    "    'aten::sigmoid_backward',\n",
    "    'aten::threshold_backward',\n",
    "]\n",
    "\n",
    "binary_elementwise_events = [event for event in perf_analyzer.tree.events if event['name'] in binary_elemwise_op_names]\n",
    "df_binary_elementwise_ops = perf_analyzer.build_df_perf_metrics(binary_elementwise_events, bwd=False, non_data_mov=True, include_kernel_names=True)\n",
    "perf_analyzer.summarize_df_perf_metrics(df_binary_elementwise_ops, ['mean'])"
   ]
  },
  {
   "cell_type": "code",
   "execution_count": null,
   "id": "50004ec2-ed57-4ee7-8ae2-67c423ba6c8a",
   "metadata": {},
   "outputs": [],
   "source": []
  }
 ],
 "metadata": {
  "kernelspec": {
   "display_name": "Python 3 (ipykernel)",
   "language": "python",
   "name": "python3"
  },
  "language_info": {
   "codemirror_mode": {
    "name": "ipython",
    "version": 3
   },
   "file_extension": ".py",
   "mimetype": "text/x-python",
   "name": "python",
   "nbconvert_exporter": "python",
   "pygments_lexer": "ipython3",
   "version": "3.10.15"
  }
 },
 "nbformat": 4,
 "nbformat_minor": 5
}
