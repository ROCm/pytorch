{
 "cells": [
  {
   "cell_type": "code",
   "execution_count": null,
   "id": "84eb5f1b-38e2-4b2d-9fcf-55c6ed7fb1dc",
   "metadata": {},
   "outputs": [],
   "source": [
    "from TraceLens import TreePerfAnalyzer\n",
    "from typing import Dict, Any\n"
   ]
  },
  {
   "cell_type": "code",
   "execution_count": null,
   "id": "caf812d2-5b1d-4285-b9d6-8078173ecb27",
   "metadata": {},
   "outputs": [],
   "source": [
    "path = '/path/to/profile.json'\n",
    "perf_analyzer = TreePerfAnalyzer.from_file(path, add_python_func=True)"
   ]
  },
  {
   "cell_type": "code",
   "execution_count": null,
   "id": "07fd6eb1-d0e0-45a0-8ecf-4a42b8adef9f",
   "metadata": {},
   "outputs": [],
   "source": [
    "tree = perf_analyzer.tree\n",
    "event = next(e for e in tree.events if e['name'] == 'nn.Module: DeepseekV2DecoderLayer_2')\n",
    "perf_analyzer.build_nn_module_latency_tree(event)"
   ]
  },
  {
   "cell_type": "code",
   "execution_count": null,
   "id": "25623dfb-96ca-4b7a-bc32-48e395a6d7f8",
   "metadata": {},
   "outputs": [],
   "source": [
    "def print_nn_module_latency_tree(root_nn_module):\n",
    "    _traverse_nn_modules_subtree_recursive(root_nn_module, _prefix=\"\", is_last=True)\n",
    "\n",
    "def _traverse_nn_modules_subtree_recursive(node: Dict[str, Any], _prefix: str, is_last: bool, parent_gpu_time=None):\n",
    "    connector = \"└── \" if is_last else \"├── \"\n",
    "    name = node.get('name', 'Unknown')\n",
    "    gpu_time = node['GPU Time']\n",
    "    print_str = f\"{_prefix}{connector}UID: {node['UID']}, Name: {name}, GPU Time: {gpu_time:.2f} µs\"\n",
    "    if parent_gpu_time is not None:\n",
    "        print_str += f\", Pct Parent: {gpu_time / parent_gpu_time * 100:.2f}%\"\n",
    "    print(print_str)\n",
    "\n",
    "    nn_module_children = node.get('nn_module_children', [])\n",
    "    child_count_print = len(nn_module_children)\n",
    "    non_nn_module_gpu_time = node.get('Non-nn.Module GPU Time')\n",
    "    if non_nn_module_gpu_time:\n",
    "        child_count_print += 1\n",
    "    \n",
    "    new_prefix = _prefix + (\"    \" if is_last else \"│   \")\n",
    "    for i, child_UID in enumerate(nn_module_children):\n",
    "        child = perf_analyzer.tree.get_UID2event(child_UID)\n",
    "        _traverse_nn_modules_subtree_recursive(child, new_prefix, is_last=(i == child_count_print - 1), parent_gpu_time=gpu_time)\n",
    "\n",
    "    if non_nn_module_gpu_time:\n",
    "        print(f\"{new_prefix}└── Non-nn.Module GPU Time: {non_nn_module_gpu_time:.2f} µs, Pct Parent: {non_nn_module_gpu_time / gpu_time * 100:.2f}%\")\n"
   ]
  },
  {
   "cell_type": "code",
   "execution_count": null,
   "id": "ee704129-900d-4192-8158-4f37d2890065",
   "metadata": {},
   "outputs": [],
   "source": [
    "print_nn_module_latency_tree(event)"
   ]
  }
 ],
 "metadata": {
  "kernelspec": {
   "display_name": "Python 3 (ipykernel)",
   "language": "python",
   "name": "python3"
  },
  "language_info": {
   "codemirror_mode": {
    "name": "ipython",
    "version": 3
   },
   "file_extension": ".py",
   "mimetype": "text/x-python",
   "name": "python",
   "nbconvert_exporter": "python",
   "pygments_lexer": "ipython3",
   "version": "3.10.15"
  }
 },
 "nbformat": 4,
 "nbformat_minor": 5
}
